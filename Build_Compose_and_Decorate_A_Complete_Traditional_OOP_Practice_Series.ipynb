{
  "nbformat": 4,
  "nbformat_minor": 0,
  "metadata": {
    "colab": {
      "provenance": []
    },
    "kernelspec": {
      "name": "python3",
      "display_name": "Python 3"
    },
    "language_info": {
      "name": "python"
    }
  },
  "cells": [
    {
      "cell_type": "markdown",
      "source": [
        "# ***1. Using self***"
      ],
      "metadata": {
        "id": "djLGyvkPAIrU"
      }
    },
    {
      "cell_type": "code",
      "execution_count": 2,
      "metadata": {
        "id": "KGYGJiLz_9EC",
        "colab": {
          "base_uri": "https://localhost:8080/"
        },
        "outputId": "928e45ab-f1a7-493c-80a3-81eb31370981"
      },
      "outputs": [
        {
          "output_type": "stream",
          "name": "stdout",
          "text": [
            "Student Name: Ahamed\n",
            "Student Marks: 90\n"
          ]
        }
      ],
      "source": [
        "#Assignment:\n",
        "#Create a class Student with attributes name and marks. Use the self keyword to initialize these values via a constructor.\n",
        "#Add a method display() that prints student details.\n",
        "\n",
        "class Student():\n",
        "  def __init__(self,name:str,marks:int):\n",
        "    self.name = name\n",
        "    self.marks = marks\n",
        "  def display(self):\n",
        "    print(f\"Student Name: {self.name}\")\n",
        "    print(f\"Student Marks: {self.marks}\")\n",
        "\n",
        "Student1=Student(\"Ahamed\", 90)\n",
        "Student1.display()"
      ]
    },
    {
      "cell_type": "markdown",
      "source": [
        "# ***2. Using cls***"
      ],
      "metadata": {
        "id": "o_AcuMB-MTV0"
      }
    },
    {
      "cell_type": "code",
      "source": [
        "#Assignment:\n",
        "#Create a class Counter that keeps track of how many objects have been created.\n",
        "# Use a class variable and a class method with cls to manage and display the count.\n",
        "\n",
        "class Counter():\n",
        "  count= 0  #class Variable\n",
        "\n",
        "  def __init__(self):\n",
        "    Counter.count +=1\n",
        "\n",
        "  @classmethod\n",
        "  def display_counts(cls):\n",
        "    print(f\"Total Objects Create {cls.count}\")\n",
        "\n",
        "obj1 = Counter()\n",
        "obj2 = Counter()\n",
        "obj3 = Counter()\n",
        "\n",
        "Counter.display_counts()"
      ],
      "metadata": {
        "colab": {
          "base_uri": "https://localhost:8080/"
        },
        "id": "H5YJApw5MZv8",
        "outputId": "c945bb7a-d9f0-4d12-f6a5-740a97f4c2e1"
      },
      "execution_count": 3,
      "outputs": [
        {
          "output_type": "stream",
          "name": "stdout",
          "text": [
            "Total Objects Create 3\n"
          ]
        }
      ]
    },
    {
      "cell_type": "markdown",
      "source": [
        "# ***3. Public Variables and Methods***"
      ],
      "metadata": {
        "id": "VXgBhKlJOFKH"
      }
    },
    {
      "cell_type": "code",
      "source": [
        "#Assignment:\n",
        "#Create a class Car with a public variable brand and a public method start(). Instantiate the class and access both from outside the class.\n",
        "\n",
        "class Car():\n",
        "  def __init__(self,brand):\n",
        "    self.brand = brand\n",
        "\n",
        "  def strat(self):\n",
        "    print(f\"{self.brand} car has been started!\")\n",
        "\n",
        "my_car = Car(\"Toyota\")\n",
        "\n",
        "print(\"Car Brand\", my_car.brand)\n",
        "my_car.strat()\n"
      ],
      "metadata": {
        "colab": {
          "base_uri": "https://localhost:8080/"
        },
        "id": "oDNS0n5NOMAw",
        "outputId": "ce161e3f-20e5-42fe-8ba4-a8069a5b3da0"
      },
      "execution_count": 4,
      "outputs": [
        {
          "output_type": "stream",
          "name": "stdout",
          "text": [
            "Car Brand Toyota\n",
            "Toyota car has been started!\n"
          ]
        }
      ]
    },
    {
      "cell_type": "code",
      "source": [],
      "metadata": {
        "id": "RBwluWDuP-5J"
      },
      "execution_count": null,
      "outputs": []
    },
    {
      "cell_type": "markdown",
      "source": [
        "# ***4. Class Variables and Class Methods***"
      ],
      "metadata": {
        "id": "syjGlh7YPWkw"
      }
    },
    {
      "cell_type": "code",
      "source": [
        "#Assignment:\n",
        "#Create a class Bank with a class variable bank_name. Add a class method change_bank_name(cls, name) that allows changing the bank name.\n",
        "#Show that it affects all instances.\n",
        "\n",
        "\n",
        "class Bank():\n",
        "  bank_name = \"ABC Bank\" #class variable\n",
        "\n",
        "  @classmethod\n",
        "  def change_bank_name(cls,name):\n",
        "    cls.bank_name = name\n",
        "    print(f\"Bank Name has been changed to {cls.bank_name}\")\n",
        "\n",
        "account1 = Bank()\n",
        "account2 = Bank()\n",
        "# Displaying bank name before change\n",
        "print(\"Before changing:\")\n",
        "print(\"Account 1 Bank:\", account1.bank_name)\n",
        "print(\"Account 2 Bank:\", account2.bank_name)\n",
        "\n",
        "# Changing bank name using class method\n",
        "Bank.change_bank_name(\"XYZ Bank\")\n",
        "\n",
        "# Displaying bank name after change\n",
        "print(\"\\nAfter changing:\")\n",
        "print(\"Account 1 Bank:\", account1.bank_name)\n",
        "print(\"Account 2 Bank:\", account2.bank_name)\n",
        ""
      ],
      "metadata": {
        "colab": {
          "base_uri": "https://localhost:8080/"
        },
        "id": "7sJAtT_sPciY",
        "outputId": "5b71e01c-65d9-43d8-8608-27aa728999d4"
      },
      "execution_count": 5,
      "outputs": [
        {
          "output_type": "stream",
          "name": "stdout",
          "text": [
            "Before changing:\n",
            "Account 1 Bank: ABC Bank\n",
            "Account 2 Bank: ABC Bank\n",
            "Bank Name has been changed to XYZ Bank\n",
            "\n",
            "After changing:\n",
            "Account 1 Bank: XYZ Bank\n",
            "Account 2 Bank: XYZ Bank\n"
          ]
        }
      ]
    },
    {
      "cell_type": "markdown",
      "source": [
        "# ***5. Static Variables and Static Methods***"
      ],
      "metadata": {
        "id": "GN3vx8jMQr20"
      }
    },
    {
      "cell_type": "code",
      "source": [
        "#Assignment:\n",
        "#Create a class MathUtils with a static method add(a, b) that returns the sum. No class or instance variables should be used.\n",
        "\n",
        "class MathUtils():\n",
        "  @staticmethod\n",
        "  def add(a,b):\n",
        "    return a+b\n",
        "\n",
        "print(MathUtils.add(10,20))\n",
        "\n"
      ],
      "metadata": {
        "colab": {
          "base_uri": "https://localhost:8080/"
        },
        "id": "9G5kzSXEQwFF",
        "outputId": "f5887680-c6bf-41dc-a5b5-29dde235e5ce"
      },
      "execution_count": 6,
      "outputs": [
        {
          "output_type": "stream",
          "name": "stdout",
          "text": [
            "30\n"
          ]
        }
      ]
    },
    {
      "cell_type": "markdown",
      "source": [
        "# ***6. Constructors and Destructors***\n"
      ],
      "metadata": {
        "id": "qHrmGw0MRLNf"
      }
    },
    {
      "cell_type": "code",
      "source": [
        "#Assignment:\n",
        "#Create a class Logger that prints a message when an object is created (constructor) and another message when it is destroyed (destructor).\n",
        "\n",
        "class Logger:\n",
        "    def __init__(self):\n",
        "        print(\"Logger object has been created.\")\n",
        "\n",
        "    def __del__(self):\n",
        "        print(\"Logger object has been destroyed.\")\n",
        "\n",
        "log = Logger()\n",
        "\n",
        "# Deleting the object manually\n",
        "del log\n",
        "\n",
        "\n"
      ],
      "metadata": {
        "colab": {
          "base_uri": "https://localhost:8080/"
        },
        "id": "gwzcsaEVRYdv",
        "outputId": "95193083-1516-4049-fca1-d54538f3afa0"
      },
      "execution_count": 7,
      "outputs": [
        {
          "output_type": "stream",
          "name": "stdout",
          "text": [
            "Logger object has been created.\n",
            "Logger object has been destroyed.\n"
          ]
        }
      ]
    },
    {
      "cell_type": "markdown",
      "source": [
        "# ***7. Access Modifiers: Public, Private, and Protected***\n"
      ],
      "metadata": {
        "id": "dz9BbWdkR4Lr"
      }
    },
    {
      "cell_type": "code",
      "source": [
        "#Assignment:\n",
        "#Create a class Employee with:\n",
        "\n",
        "#a public variable name,\n",
        "\n",
        "#a protected variable _salary, and\n",
        "\n",
        "#a private variable __ssn.\n",
        "\n",
        "#Try accessing all three variables from an object of the class and document what happens.\n",
        "\n",
        "class Employee:\n",
        "    def __init__(self, name, salary, ssn):\n",
        "        self.name = name\n",
        "        self._salary = salary\n",
        "        self.__ssn = ssn\n",
        "\n",
        "employe1 = Employee(\"Ahamed\",5000,\"123-456-789\")\n",
        "\n",
        "print(\"Public Variable:\",employe1.name)\n",
        "print(\"Protected Variable:\",employe1._salary)\n",
        "print(\"Private Variable:\",employe1._Employee__ssn)\n",
        "\n",
        "\n",
        "\n",
        "\n"
      ],
      "metadata": {
        "colab": {
          "base_uri": "https://localhost:8080/"
        },
        "id": "t6CR3vpNSJf0",
        "outputId": "8f82825f-1e0f-40e2-acdb-94b932916f6d"
      },
      "execution_count": 8,
      "outputs": [
        {
          "output_type": "stream",
          "name": "stdout",
          "text": [
            "Public Variable: Ahamed\n",
            "Protected Variable: 5000\n",
            "Private Variable: 123-456-789\n"
          ]
        }
      ]
    },
    {
      "cell_type": "markdown",
      "source": [
        "# ***8. The super() Function***\n"
      ],
      "metadata": {
        "id": "wWs9kK48TWfZ"
      }
    },
    {
      "cell_type": "code",
      "source": [
        "#Assignment:\n",
        "#Create a class Person with a constructor that sets the name.\n",
        "#Inherit a class Teacher from it, add a subject field, and use super() to call the base class constructor.\n",
        "\n",
        "class Person:\n",
        "    def __init__(self, name):\n",
        "        self.name = name\n",
        "\n",
        "class Teacher(Person):\n",
        "    def __init__(self, name, subject):\n",
        "        super().__init__(name)\n",
        "        self.subject = subject\n",
        "\n",
        "    def display(self):\n",
        "     print(f\"Name: {self.name}\")\n",
        "     print(f\"Subject: {self.subject}\")\n",
        "\n",
        "# Example usage\n",
        "teacher1 = Teacher(\"Sir Hamzah\", \"Python\")\n",
        "teacher1.display()"
      ],
      "metadata": {
        "colab": {
          "base_uri": "https://localhost:8080/"
        },
        "id": "sWP-ahFXTd5v",
        "outputId": "cc80f183-86ba-4f31-d1b3-80f4ea940759"
      },
      "execution_count": 9,
      "outputs": [
        {
          "output_type": "stream",
          "name": "stdout",
          "text": [
            "Name: Sir Hamzah\n",
            "Subject: Python\n"
          ]
        }
      ]
    },
    {
      "cell_type": "markdown",
      "source": [
        "# ***9. Abstract Classes and Methods***\n"
      ],
      "metadata": {
        "id": "8zHsM6ulUJje"
      }
    },
    {
      "cell_type": "code",
      "source": [
        "#Assignment:\n",
        "#Use the abc module to create an abstract class Shape with an abstract method area(). Inherit a class Rectangle that implements area().\n",
        "\n",
        "from abc import ABC, abstractmethod\n",
        "\n",
        "class Shape(ABC):\n",
        "    @abstractmethod\n",
        "    def area(self):\n",
        "        pass\n",
        "\n",
        "class Rectangle(Shape):\n",
        "    def __init__(self, length, width):\n",
        "        self.length = length\n",
        "        self.width = width\n",
        "\n",
        "    def area(self):\n",
        "        return self.length * self.width\n",
        "\n",
        "# Example usage\n",
        "rect = Rectangle(5, 3)\n",
        "print(\"Area of Rectangle:\", rect.area())\n"
      ],
      "metadata": {
        "colab": {
          "base_uri": "https://localhost:8080/"
        },
        "id": "qnkKYn03UNl4",
        "outputId": "d979b246-5f11-43a7-8179-4afa4b23dba8"
      },
      "execution_count": 10,
      "outputs": [
        {
          "output_type": "stream",
          "name": "stdout",
          "text": [
            "Area of Rectangle: 15\n"
          ]
        }
      ]
    },
    {
      "cell_type": "markdown",
      "source": [
        "# ***10. Instance Methods***"
      ],
      "metadata": {
        "id": "1S54dlaHUxAJ"
      }
    },
    {
      "cell_type": "code",
      "source": [
        "#Assignment:\n",
        "#Create a class Dog with instance variables name and breed. Add an instance method bark() that prints a message including the dog's name.\n",
        "\n",
        "class Dog():\n",
        "  def __init__(self,name,breed):\n",
        "    self.name = name\n",
        "    self.brees = breed\n",
        "\n",
        "  def Bark(self):\n",
        "    print(f\"{self.name} says; 'woof'' 'woof'\")\n",
        "\n",
        "pet1 = Dog(\"sweetee\",\"Golden Retriever\")\n",
        "pet1.Bark()"
      ],
      "metadata": {
        "colab": {
          "base_uri": "https://localhost:8080/"
        },
        "id": "ZVbruNLIU1wB",
        "outputId": "5a7e24ab-4b8c-480a-83dd-f7e1b94f2b38"
      },
      "execution_count": 11,
      "outputs": [
        {
          "output_type": "stream",
          "name": "stdout",
          "text": [
            "sweetee says; 'woof'' 'woof'\n"
          ]
        }
      ]
    },
    {
      "cell_type": "markdown",
      "source": [
        "# ***11. Class Methods***"
      ],
      "metadata": {
        "id": "S7DPaS4oXIrT"
      }
    },
    {
      "cell_type": "code",
      "source": [
        "#Assignment:\n",
        "#Create a class Book with a class variable total_books. Add a class method increment_book_count() to increase the count when a new book is added.\n",
        "class Book:\n",
        "    total_books = 0  # Class variable to track the total number of books\n",
        "\n",
        "    @classmethod\n",
        "    def increment_book_count(cls):\n",
        "        cls.total_books += 1\n",
        "\n",
        "    def __init__(self, title, author):\n",
        "        self.title = title\n",
        "        self.author = author\n",
        "        Book.increment_book_count()  # Increase the book count when a new book is created\n",
        "\n",
        "# Example usage\n",
        "book1 = Book(\"Python\", \"Sir Hamzah\")\n",
        "book2 = Book(\"Nextjs\", \"Sir Bilal\")\n",
        "book3 = Book(\"To Kill a Mockingbird\", \"Harper Lee\")\n",
        "\n",
        "print(\"Tile:\", book1.title ,\"\\nAuthor:\", book1.author)\n",
        "print(\"Title:\", book2.title ,\"\\nAuthhor:\", book2.author)\n",
        "print(\"Title:\", book3.title ,\"\\nAuthor:\", book3.author)\n",
        "print(\"Total books:\", Book.total_books)\n"
      ],
      "metadata": {
        "colab": {
          "base_uri": "https://localhost:8080/"
        },
        "id": "68lNng-UXOJf",
        "outputId": "e763f4a6-00c5-4c31-968e-393ad8c355b5"
      },
      "execution_count": 19,
      "outputs": [
        {
          "output_type": "stream",
          "name": "stdout",
          "text": [
            "Tile: Python \n",
            "Author: Sir Hamzah\n",
            "Title: Nextjs \n",
            "Authhor: Sir Bilal\n",
            "Title: To Kill a Mockingbird \n",
            "Author: Harper Lee\n",
            "Total books: 3\n"
          ]
        }
      ]
    },
    {
      "cell_type": "markdown",
      "source": [
        "# ***12. Static Methods***"
      ],
      "metadata": {
        "id": "9A5kOnGXaGWq"
      }
    },
    {
      "cell_type": "code",
      "source": [
        "#Assignment:\n",
        "#Create a class TemperatureConverter with a static method celsius_to_fahrenheit(c) that returns the Fahrenheit value.\n",
        "\n",
        "class TemperatureConverter:\n",
        "    @staticmethod\n",
        "    def celsius_to_fahrenheit(c):\n",
        "        return (c * 9/5) + 32\n",
        "\n",
        "\n",
        "celsius_temp = 25\n",
        "fahrenheit_temp = TemperatureConverter.celsius_to_fahrenheit(celsius_temp)\n",
        "\n",
        "print(f\"{celsius_temp}°C is equal to {fahrenheit_temp}°F\")\n"
      ],
      "metadata": {
        "colab": {
          "base_uri": "https://localhost:8080/"
        },
        "id": "7iU6nvzeaQlA",
        "outputId": "2a23d720-ce70-457f-f2e5-cbdcf6bd874d"
      },
      "execution_count": 21,
      "outputs": [
        {
          "output_type": "stream",
          "name": "stdout",
          "text": [
            "25°C is equal to 77.0°F\n"
          ]
        }
      ]
    },
    {
      "cell_type": "markdown",
      "source": [
        "# ***13. Composition***"
      ],
      "metadata": {
        "id": "aXZ2zt_1a65j"
      }
    },
    {
      "cell_type": "code",
      "source": [
        "#Assignment:\n",
        "#Create a class Engine and a class Car. Use composition by passing an Engine object to the Car class during initialization.\n",
        "#Access a method of the Engine class via the Car class.\n",
        "\n",
        "class Engine:\n",
        "    def start(self):\n",
        "        print(\"Engine started.\")\n",
        "\n",
        "class Car:\n",
        "    def __init__(self, engine):\n",
        "        self.engine = engine\n",
        "\n",
        "    def drive(self):\n",
        "        self.engine.start()\n",
        "        print(\"Car is driving.\")\n",
        "engine = Engine()\n",
        "car = Car(engine)\n",
        "car.drive()\n",
        "\n"
      ],
      "metadata": {
        "colab": {
          "base_uri": "https://localhost:8080/"
        },
        "id": "fWx6o6-IbBK2",
        "outputId": "30e32c74-7343-432a-dd03-69f6e14556b3"
      },
      "execution_count": 22,
      "outputs": [
        {
          "output_type": "stream",
          "name": "stdout",
          "text": [
            "Engine started.\n",
            "Car is driving.\n"
          ]
        }
      ]
    },
    {
      "cell_type": "markdown",
      "source": [
        "# ***14. Aggregation***\n"
      ],
      "metadata": {
        "id": "6PVTzefub8nN"
      }
    },
    {
      "cell_type": "code",
      "source": [
        "#Assignment:\n",
        "#Create a class Department and a class Employee.\n",
        "#Use aggregation by having a Department object store a reference to an Employee object that exists independently of it.\n",
        "\n",
        "class Employee:\n",
        "    def __init__(self, name, position):\n",
        "        self.name = name\n",
        "        self.position = position\n",
        "\n",
        "    def display_employee(self):\n",
        "        print(f\"Employee Name: {self.name}\")\n",
        "        print(f\"Position: {self.position}\")\n",
        "\n",
        "class Department:\n",
        "    def __init__(self, department_name, employee):\n",
        "        self.department_name = department_name\n",
        "        self.employee = employee  # Aggregation: Department stores reference to an Employee\n",
        "\n",
        "    def display_department_info(self):\n",
        "        print(f\"Department: {self.department_name}\")\n",
        "        self.employee.display_employee()  # Accessing Employee's method from Department\n",
        "\n",
        "# Example usage\n",
        "emp1 = Employee(\"Rabia Rizwan\", \"Web Development👨‍💻\")  # Employee object exists independently\n",
        "dept1 = Department(\"IT\", emp1)  # Department stores reference to the Employee object\n",
        "\n",
        "dept1.display_department_info()  # Display department and employee info\n",
        "\n"
      ],
      "metadata": {
        "colab": {
          "base_uri": "https://localhost:8080/"
        },
        "id": "HFBAd-Agb_Sf",
        "outputId": "afa385a4-58a2-4755-d0d4-591d2a2790a6"
      },
      "execution_count": 23,
      "outputs": [
        {
          "output_type": "stream",
          "name": "stdout",
          "text": [
            "Department: IT\n",
            "Employee Name: Rabia Rizwan\n",
            "Position: Web Development👨‍💻\n"
          ]
        }
      ]
    },
    {
      "cell_type": "markdown",
      "source": [
        "# ***15. Method Resolution Order (MRO) and Diamond Inheritance***\n"
      ],
      "metadata": {
        "id": "-kM-3oeenRWK"
      }
    },
    {
      "cell_type": "code",
      "source": [
        "#Assignment:\n",
        "#Create four classes:\n",
        "\n",
        "#A with a method show(),\n",
        "\n",
        "#B and C that inherit from A and override show(),\n",
        "\n",
        "#D that inherits from both B and C.\n",
        "\n",
        "#Create an object of D and call show() to observe MRO.\n",
        "\n",
        "\n",
        "class A:\n",
        "    def show(self):\n",
        "        print(\"This is class A\")\n",
        "\n",
        "class B(A):\n",
        "    def show(self):\n",
        "        print(\"This is class B\")\n",
        "\n",
        "class C(A):\n",
        "    def show(self):\n",
        "        print(\"This is class C\")\n",
        "\n",
        "class D(B, C):  # D inherits from both B and C\n",
        "    def show(self):\n",
        "        print(\"This is class D\")\n",
        "\n",
        "# Create an object of D\n",
        "obj = D()\n",
        "obj.show()  # Call the show() method to observe MRO (Method Resolution Order)\n",
        "\n"
      ],
      "metadata": {
        "colab": {
          "base_uri": "https://localhost:8080/"
        },
        "id": "XQR8MiQbnYUe",
        "outputId": "866c8692-a3e6-451f-f088-11993780c307"
      },
      "execution_count": 24,
      "outputs": [
        {
          "output_type": "stream",
          "name": "stdout",
          "text": [
            "This is class D\n"
          ]
        }
      ]
    },
    {
      "cell_type": "markdown",
      "source": [
        "# ***16. Function Decorators***\n"
      ],
      "metadata": {
        "id": "oqBKdiUgoFJ5"
      }
    },
    {
      "cell_type": "code",
      "source": [
        "#Assignment:\n",
        "#Write a decorator function log_function_call that prints \"Function is being called\" before a function executes. Apply it to a function say_hello().\n",
        "\n",
        "def log_function_call(func):\n",
        "    def wrapper():\n",
        "        print(\"Function is being called\")\n",
        "        func()\n",
        "    return wrapper\n",
        "\n",
        "@log_function_call\n",
        "def say_hello():\n",
        "    print(\"Hello!\")\n",
        "\n",
        "# Example usage\n",
        "say_hello()\n"
      ],
      "metadata": {
        "colab": {
          "base_uri": "https://localhost:8080/"
        },
        "id": "MD2AKQI5oKwX",
        "outputId": "dea4f0e2-6248-4153-8ba7-ecd74caaa056"
      },
      "execution_count": 26,
      "outputs": [
        {
          "output_type": "stream",
          "name": "stdout",
          "text": [
            "Function is being called\n",
            "Hello!\n"
          ]
        }
      ]
    },
    {
      "cell_type": "markdown",
      "source": [
        "# ***17. Class Decorators***"
      ],
      "metadata": {
        "id": "O1JMnBgToyXR"
      }
    },
    {
      "cell_type": "code",
      "source": [
        "#Assignment:\n",
        "#Create a class decorator add_greeting that modifies a class to add a greet() method returning \"Hello from Decorator!\". Apply it to a class Person.\n",
        "\n",
        "def add_greeting(cls):\n",
        "    def greet(self):\n",
        "        return \"Hello from Decorator!\"\n",
        "    cls.greet = greet\n",
        "    return cls\n",
        "\n",
        "@add_greeting\n",
        "class Person:\n",
        "    def __init__(self, name):\n",
        "        self.name = name\n",
        "p = Person(\"Ahamed\")\n",
        "print(p.greet())\n"
      ],
      "metadata": {
        "colab": {
          "base_uri": "https://localhost:8080/"
        },
        "id": "DWov3l2Oo1Ni",
        "outputId": "776552af-5005-418e-e7b3-f64e63850a07"
      },
      "execution_count": 27,
      "outputs": [
        {
          "output_type": "stream",
          "name": "stdout",
          "text": [
            "Hello from Decorator!\n"
          ]
        }
      ]
    },
    {
      "cell_type": "markdown",
      "source": [
        "# ***18. Property Decorators: @property, @setter, and @deleter***\n"
      ],
      "metadata": {
        "id": "sF5h9FNTpcyL"
      }
    },
    {
      "cell_type": "code",
      "source": [
        "#Assignment:\n",
        "#Create a class Product with a private attribute _price. Use @property to get the price, @price.setter to update it, and @price.deleter to delete it.\n",
        "\n",
        "class Product:\n",
        "    def __init__(self, price):\n",
        "        self.__price = price  # Private attribute (by convention)\n",
        "\n",
        "    @property\n",
        "    def price(self):\n",
        "        return self.__price\n",
        "\n",
        "    @price.setter\n",
        "    def price(self, value):\n",
        "        if value < 0:\n",
        "            print(\"Price cannot be negative!\")\n",
        "        else:\n",
        "            self.__price = value\n",
        "\n",
        "    @price.deleter\n",
        "    def price(self):\n",
        "        print(\"Deleting price...\")\n",
        "        del self.__price\n",
        "\n",
        "# Example usage\n",
        "p = Product(100)\n",
        "\n",
        "# Accessing the price\n",
        "print(\"Price:\", p.price)\n",
        "\n",
        "# Updating the price\n",
        "p.price = 150\n",
        "print(\"Updated Price:\", p.price)\n",
        "\n",
        "# Trying to set a negative price\n",
        "p.price = -50\n",
        "\n",
        "# Deleting the price\n",
        "del p.price\n"
      ],
      "metadata": {
        "colab": {
          "base_uri": "https://localhost:8080/"
        },
        "id": "ttjaConmpqs3",
        "outputId": "93df24a8-b7b2-42bc-dd62-de9f7a6a14e0"
      },
      "execution_count": 28,
      "outputs": [
        {
          "output_type": "stream",
          "name": "stdout",
          "text": [
            "Price: 100\n",
            "Updated Price: 150\n",
            "Price cannot be negative!\n",
            "Deleting price...\n"
          ]
        }
      ]
    },
    {
      "cell_type": "markdown",
      "source": [
        "# ***19. callable() and __call__()***"
      ],
      "metadata": {
        "id": "Oe76a3VQqhL6"
      }
    },
    {
      "cell_type": "code",
      "source": [
        "#Assignment:\n",
        "#Create a class Multiplier with an __init__() to set a factor. Define a __call__() method that multiplies an input by the factor. Test it with callable() and by calling the object like a function.\n",
        "\n",
        "\n",
        "class Multiplier:\n",
        "    def __init__(self, factor):\n",
        "        self.factor = factor\n",
        "\n",
        "    def __call__(self, value):\n",
        "        return value * self.factor\n",
        "\n",
        "# Example usage\n",
        "double = Multiplier(2)\n",
        "\n",
        "# Test with callable()\n",
        "print(\"Is 'double' callable?\", callable(double))  # Should print True\n",
        "\n",
        "# Call the object like a function\n",
        "result = double(5)\n",
        "print(\"Result of double(5):\", result)\n",
        "\n"
      ],
      "metadata": {
        "colab": {
          "base_uri": "https://localhost:8080/"
        },
        "id": "4y7D7KggqnQU",
        "outputId": "338a481d-a26d-43c3-8e62-88a1113eb6ba"
      },
      "execution_count": 29,
      "outputs": [
        {
          "output_type": "stream",
          "name": "stdout",
          "text": [
            "Is 'double' callable? True\n",
            "Result of double(5): 10\n"
          ]
        }
      ]
    },
    {
      "cell_type": "markdown",
      "source": [
        "20. Creating a Custom Exception\n"
      ],
      "metadata": {
        "id": "ChiH_zlNrSzH"
      }
    },
    {
      "cell_type": "code",
      "source": [
        "#Assignment:\n",
        "#Create a custom exception InvalidAgeError. Write a function check_age(age) that raises this exception if age < 18. Handle it with try...except.\n",
        "\n",
        "# Define custom exception\n",
        "class InvalidAgeError(Exception):\n",
        "    pass\n",
        "\n",
        "# Function to check age\n",
        "def check_age(age):\n",
        "    if age < 18:\n",
        "        raise InvalidAgeError(\"Age must be at least 18.\")\n",
        "    else:\n",
        "        print(\"Age is valid.\")\n",
        "\n",
        "# Example usage\n",
        "try:\n",
        "    user_age = int(input(\"Enter your age: \"))\n",
        "    check_age(user_age)\n",
        "except InvalidAgeError as e:\n",
        "    print(\"InvalidAgeError:\", e)\n",
        "except ValueError:\n",
        "    print(\"Please enter a valid number!\")\n"
      ],
      "metadata": {
        "colab": {
          "base_uri": "https://localhost:8080/"
        },
        "id": "PF2uNKMArVay",
        "outputId": "c2c13c91-c09b-41b6-c389-96d047883f42"
      },
      "execution_count": 30,
      "outputs": [
        {
          "output_type": "stream",
          "name": "stdout",
          "text": [
            "Enter your age: 23\n",
            "Age is valid.\n"
          ]
        }
      ]
    },
    {
      "cell_type": "markdown",
      "source": [
        "# ***21. Make a Custom Class Iterable***\n",
        "\n"
      ],
      "metadata": {
        "id": "Q7TML5Elr6ZF"
      }
    },
    {
      "cell_type": "code",
      "source": [
        "#Assignment:\n",
        "#Create a class Countdown that takes a start number. Implement __iter__() and __next__() to make the object iterable in a for-loop, counting down to 0.\n",
        "\n",
        "class Countdown:\n",
        "    def __init__(self, start):\n",
        "        self.current = start\n",
        "\n",
        "    def __iter__(self):\n",
        "        return self\n",
        "\n",
        "    def __next__(self):\n",
        "        if self.current < 0:\n",
        "            raise StopIteration\n",
        "        else:\n",
        "            num = self.current\n",
        "            self.current -= 1\n",
        "            return num\n",
        "\n",
        "# Example usage\n",
        "countdown = Countdown(5)\n",
        "\n",
        "for number in countdown:\n",
        "    print(number)\n",
        "\n"
      ],
      "metadata": {
        "colab": {
          "base_uri": "https://localhost:8080/"
        },
        "id": "W15nIYKgsIFM",
        "outputId": "01eb8763-bd0d-4bb7-cea9-4a268731f89f"
      },
      "execution_count": 31,
      "outputs": [
        {
          "output_type": "stream",
          "name": "stdout",
          "text": [
            "5\n",
            "4\n",
            "3\n",
            "2\n",
            "1\n",
            "0\n"
          ]
        }
      ]
    }
  ]
}